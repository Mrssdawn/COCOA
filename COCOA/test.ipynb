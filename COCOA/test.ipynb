{
 "cells": [
  {
   "cell_type": "code",
   "execution_count": 1,
   "metadata": {},
   "outputs": [],
   "source": [
    "import json\n",
    "from scipy.io import loadmat\n",
    "from sklearn.tree import DecisionTreeClassifier\n"
   ]
  },
  {
   "cell_type": "code",
   "execution_count": 13,
   "metadata": {},
   "outputs": [
    {
     "name": "stdout",
     "output_type": "stream",
     "text": [
      "dict_keys(['__header__', '__version__', '__globals__', 'data', 'target', 'name'])\n",
      "(6000, 944) (101, 6000)\n",
      "['rcv1subset2_top944']\n"
     ]
    }
   ],
   "source": [
    "datas =['flags','foodtruck','rcv1s2','emotions','yeast','birds',\n",
    "            'Image','scene','VirusPseAAC','PlantPseAAC',\n",
    "            'Enron','GnegativeGO']\n",
    "index = datas[2]\n",
    "data = loadmat(\"dataset/\"+index+\".mat\")\n",
    "# json_filename = f'dataset/{index}_3cv.json'\n",
    "print(data.keys())\n",
    "X = data['data']\n",
    "Y = data['target']\n",
    "print(X.shape, Y.shape)\n",
    "print(data['name'])\n",
    "# # 读取 JSON 文件\n",
    "# # with open(json_filename, 'r') as f:\n",
    "# #     splits = json.load(f)\n",
    "\n",
    "# # 获取某一折的训练和测试索引（例如，读取第1折）\n",
    "# fold_idx = 0  # 对应第一折\n",
    "# # train_idx = splits[fold_idx]['train_indices']\n",
    "# # test_idx = splits[fold_idx]['test_indices']\n",
    "\n",
    "# print(f\"Train indices: {len(train_idx)}\")\n",
    "# print(f\"Test indices: {test_idx}\")\n",
    "# print(Y.shape)"
   ]
  }
 ],
 "metadata": {
  "kernelspec": {
   "display_name": "mlc",
   "language": "python",
   "name": "python3"
  },
  "language_info": {
   "codemirror_mode": {
    "name": "ipython",
    "version": 3
   },
   "file_extension": ".py",
   "mimetype": "text/x-python",
   "name": "python",
   "nbconvert_exporter": "python",
   "pygments_lexer": "ipython3",
   "version": "3.11.8"
  }
 },
 "nbformat": 4,
 "nbformat_minor": 2
}
